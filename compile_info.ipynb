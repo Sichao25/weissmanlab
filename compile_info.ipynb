{
 "cells": [
  {
   "cell_type": "code",
   "execution_count": 3,
   "id": "69c1fd79-af03-4e01-80de-3f71722276e7",
   "metadata": {},
   "outputs": [],
   "source": [
    "import yaml\n",
    "import requests\n",
    "from bs4 import BeautifulSoup\n",
    "from pymed import PubMed\n",
    "import urllib.request\n",
    "import requests\n",
    "import gdown\n",
    "import os\n",
    "import pandas as pd\n",
    "from PIL import Image\n"
   ]
  },
  {
   "cell_type": "markdown",
   "id": "a7486e04-b58e-49bd-97bd-e91e2862b221",
   "metadata": {
    "jp-MarkdownHeadingCollapsed": true,
    "tags": []
   },
   "source": [
    "### Publications"
   ]
  },
  {
   "cell_type": "code",
   "execution_count": 58,
   "id": "f74dd27d-f5ba-4a0d-8760-72212ccce249",
   "metadata": {},
   "outputs": [],
   "source": [
    "url = 'https://weissmanlab.ucsf.edu/publications/publications.html'\n",
    "page = requests.get(url)\n",
    "\n",
    "soup = BeautifulSoup(page.text, 'html.parser')\n",
    "\n",
    "old_website_pubs = [(a.get('href'), a.text) for pub_div in soup.find_all(id='publication') for a in pub_div.find_all('a')]"
   ]
  },
  {
   "cell_type": "code",
   "execution_count": 2,
   "id": "77ef5dac-0008-4d28-afb9-06f4adb555d8",
   "metadata": {},
   "outputs": [
    {
     "data": {
      "text/plain": [
       "225"
      ]
     },
     "execution_count": 2,
     "metadata": {},
     "output_type": "execute_result"
    }
   ],
   "source": [
    "pubmed = PubMed(tool=\"MyTool\", email=\"lenail@mit.edu\")\n",
    "results = list(pubmed.query(\"Jonathan Weissman\", max_results=500))\n",
    "len(results)"
   ]
  },
  {
   "cell_type": "code",
   "execution_count": 5,
   "id": "0e8cd5af-8fdc-4df9-a7ba-0deb957efde8",
   "metadata": {},
   "outputs": [],
   "source": [
    "pubmed_pubs = []\n",
    "\n",
    "for result in results:\n",
    "    try:\n",
    "        pubmed_pubs.append(\n",
    "            dict(title=result.title,\n",
    "                authors=[str(author['firstname'])+' '+str(author['lastname']) for author in result.authors],\n",
    "                publication_date=result.publication_date.strftime(\"%d/%m/%y\"),\n",
    "                publication_year=result.publication_date.strftime(\"%Y\"),\n",
    "                pubmed_id=result.pubmed_id.split('\\n')[0],\n",
    "                abstract=result.abstract,\n",
    "                doi=result.doi.split('\\n')[0],\n",
    "                journal=result.journal))\n",
    "\n",
    "    except:\n",
    "        # print(result.toDict())\n",
    "\n",
    "        print(result.title)\n",
    "        print(result.authors)\n",
    "        print(result.publication_date)\n",
    "        print(result.pubmed_id)\n",
    "        print(result.abstract)\n",
    "        print(result.doi)\n",
    "        print(result.journal)"
   ]
  },
  {
   "cell_type": "code",
   "execution_count": 10,
   "id": "ca05e025-c9cc-4718-bdc7-a332a0829f18",
   "metadata": {},
   "outputs": [],
   "source": [
    "replacements = {\n",
    "    'bioRxiv : the preprint server for biology': 'biorxiv',\n",
    "    'Methods in molecular biology (Clifton, N.J.)': 'Methods in molecular biology',\n",
    "    'Current biology : CB': 'Current biology',\n",
    "    'Science (New York, N.Y.)': 'Science',\n",
    "    'Proceedings of the National Academy of Sciences of the United States of America': 'PNAS',\n",
    "    'Molecular & cellular proteomics : MCP': 'Molecular & cellular proteomics'\n",
    "}"
   ]
  },
  {
   "cell_type": "code",
   "execution_count": 17,
   "id": "b61a87ea-ecc2-4ea9-b827-701e9d116ddf",
   "metadata": {},
   "outputs": [],
   "source": [
    "for p in pubmed_pubs:\n",
    "    if p['journal'] in replacements:\n",
    "        p['journal'] = replacements[p['journal']]"
   ]
  },
  {
   "cell_type": "code",
   "execution_count": 19,
   "id": "b33a32b6-dc27-47c2-84d3-c10ee261175a",
   "metadata": {
    "tags": []
   },
   "outputs": [
    {
     "data": {
      "text/plain": [
       "349773"
      ]
     },
     "execution_count": 19,
     "metadata": {},
     "output_type": "execute_result"
    }
   ],
   "source": [
    "open('_data/publications.yml', 'w').write(yaml.dump(pubmed_pubs, default_flow_style=False, sort_keys=False))"
   ]
  },
  {
   "cell_type": "markdown",
   "id": "e32e075a-79f6-436a-bfb6-5b5862ddc492",
   "metadata": {
    "jp-MarkdownHeadingCollapsed": true,
    "tags": []
   },
   "source": [
    "### Previous Site"
   ]
  },
  {
   "cell_type": "code",
   "execution_count": 3,
   "id": "c9db6a5a-bfbc-443b-9669-f171868df41f",
   "metadata": {},
   "outputs": [],
   "source": [
    "people_url = 'https://weissmanlab.ucsf.edu/people/people.html'\n",
    "alum_url = 'https://weissmanlab.ucsf.edu/people/alumni.html'\n",
    "people_page = requests.get(people_url)\n",
    "alum_page = requests.get(alum_url)\n",
    "\n",
    "people_soup = BeautifulSoup(people_page.text, 'html.parser')\n",
    "alum_soup = BeautifulSoup(alum_page.text, 'html.parser')\n",
    "\n",
    "def get_text(elem, id):\n",
    "    elem = elem.find(id=id)\n",
    "    if elem: return elem.get_text(separator='|')\n",
    "    else: return ''\n",
    "\n",
    "people = [dict(name=get_text(person, 'peo_name').replace('|', ' '),\n",
    "           pos=get_text(person, 'peo_pos'),\n",
    "           email=get_text(person, 'peo_email'),\n",
    "           img=person.find('img').get('src')) for person in people_soup.find_all(id='peo_grid')]\n",
    "alums = [dict(name=get_text(person, 'peo_name').replace('|', ' '),\n",
    "          pos=get_text(person, 'alum_pos'),\n",
    "          now=get_text(person, 'alum_current_2line'),\n",
    "          img=(person.find('img').get('src') if person.find('img') else None)) for person in alum_soup.find_all(id='peo_grid')][1:]\n",
    "\n",
    "for p in people: p['first_name'] = p['name'].split(' ')[0]\n",
    "for p in people: p['last_name'] = p['name'].split(' ')[-1]\n",
    "for p in alums: p['first_name'] = p['name'].split(' ')[0]\n",
    "for p in alums: p['last_name'] = p['name'].split(' ')[-1]\n",
    "\n",
    "for p in people: p['alum'] = 'false'\n",
    "for p in alums: p['alum'] = 'true'"
   ]
  },
  {
   "cell_type": "code",
   "execution_count": 4,
   "id": "a5da71f6-735b-4f58-8c4b-8e6e337d8a03",
   "metadata": {},
   "outputs": [],
   "source": [
    "for person in people:\n",
    "    urllib.request.urlretrieve('https://weissmanlab.ucsf.edu/people/'+person['img'], 'assets/img/people/'+person['img'])"
   ]
  },
  {
   "cell_type": "code",
   "execution_count": 7,
   "id": "3c4d06e8-a2b7-48f0-b171-056da66db1b2",
   "metadata": {},
   "outputs": [],
   "source": [
    "for person in alums:\n",
    "    urllib.request.urlretrieve('https://weissmanlab.ucsf.edu/people/'+person['img'], 'assets/img/people/'+person['img'].split('/')[-1])\n",
    "\n",
    "    person['img'] = person['img'].split('/')[-1]"
   ]
  },
  {
   "cell_type": "code",
   "execution_count": 8,
   "id": "512e3021-c766-45fa-ad1e-ceeded366531",
   "metadata": {},
   "outputs": [],
   "source": [
    "people = people + alums\n",
    "for p in people: p['id'] = p['first_name']+p['last_name']"
   ]
  },
  {
   "cell_type": "code",
   "execution_count": 9,
   "id": "ba432453-e1a0-4259-9100-333814d65c98",
   "metadata": {},
   "outputs": [],
   "source": [
    "def rename_img(p):\n",
    "    if p['img'] == 'weibezahn.jpg' or p['img'] == '':\n",
    "        p['img'] = ''\n",
    "    else:\n",
    "        change_from = f'assets/img/people/{p[\"img\"]}'\n",
    "        change_to = f'assets/img/people/{p[\"id\"]+\".\"+p[\"img\"].split(\".\")[-1]}'\n",
    "        if os.path.exists(change_from): os.rename(change_from, change_to)\n",
    "        p[\"img\"] = change_to\n",
    "\n",
    "for p in people: rename_img(p)"
   ]
  },
  {
   "cell_type": "code",
   "execution_count": 13,
   "id": "98004665-db2f-4927-9d8e-366c79ca4dda",
   "metadata": {},
   "outputs": [],
   "source": [
    "pd.DataFrame(people).to_csv('old_site_people.csv', index=False)"
   ]
  },
  {
   "cell_type": "markdown",
   "id": "4e853d1d-8cbe-470c-9557-0c737bc99f80",
   "metadata": {
    "jp-MarkdownHeadingCollapsed": true,
    "tags": []
   },
   "source": [
    "### Survey"
   ]
  },
  {
   "cell_type": "code",
   "execution_count": 15,
   "id": "83b4d932-3ec7-4c34-8400-a55be0447c7a",
   "metadata": {},
   "outputs": [],
   "source": [
    "people = pd.read_csv('old_site_people.csv')"
   ]
  },
  {
   "cell_type": "code",
   "execution_count": 29,
   "id": "17964390-6a81-4e90-aa28-0e49387c6f4d",
   "metadata": {
    "tags": []
   },
   "outputs": [],
   "source": [
    "survey_responses = pd.read_csv('https://docs.google.com/spreadsheets/d/1uxl0DQpqHvNdgI92UVx1Vyt4TQhkgt74cPp1dEn3Gjw'+'/export?format=csv')"
   ]
  },
  {
   "cell_type": "code",
   "execution_count": 30,
   "id": "504ae2e7-1a4f-49c7-a12f-31392537847b",
   "metadata": {
    "tags": []
   },
   "outputs": [],
   "source": [
    "survey_responses = survey_responses.rename(columns={'Name':'name', 'Role':'pos', 'Email':'email', 'Portrait / head shot':'img'})[['name', 'pos', 'email', 'img']]"
   ]
  },
  {
   "cell_type": "code",
   "execution_count": 32,
   "id": "280e57d6-b062-4d48-aae5-5c7d651b4c35",
   "metadata": {},
   "outputs": [],
   "source": [
    "survey_responses['first_name'] = survey_responses['name'].str.split(' ').str[0]\n",
    "survey_responses['last_name'] = survey_responses['name'].str.split(' ').str[-1]\n",
    "survey_responses['id'] = survey_responses['first_name']+survey_responses['last_name']\n",
    "survey_responses['alum'] = False"
   ]
  },
  {
   "cell_type": "code",
   "execution_count": 46,
   "id": "e4bc1dee-1491-4231-8d6e-3d206eee1d06",
   "metadata": {
    "collapsed": true,
    "jupyter": {
     "outputs_hidden": true
    },
    "tags": []
   },
   "outputs": [
    {
     "name": "stdout",
     "output_type": "stream",
     "text": [
      "RichardShe https://drive.google.com/open?id=1pAqQi52Pr1B0xIEtMr3XaAas1hVMW08w\n"
     ]
    },
    {
     "name": "stderr",
     "output_type": "stream",
     "text": [
      "Downloading...\n",
      "From: https://drive.google.com/uc?id=1pAqQi52Pr1B0xIEtMr3XaAas1hVMW08w\n",
      "To: /Users/alex/Documents/weissmanlab/assets/img/people/RichardShe.jpg\n",
      "100%|██████████| 588k/588k [00:00<00:00, 15.7MB/s]\n"
     ]
    },
    {
     "name": "stdout",
     "output_type": "stream",
     "text": [
      "LakshmiMiller-Vedam https://drive.google.com/open?id=1pAkanvnqJmd1D9i7Onl_6_lWLmg5nugY\n"
     ]
    },
    {
     "name": "stderr",
     "output_type": "stream",
     "text": [
      "Downloading...\n",
      "From: https://drive.google.com/uc?id=1pAkanvnqJmd1D9i7Onl_6_lWLmg5nugY\n",
      "To: /Users/alex/Documents/weissmanlab/assets/img/people/LakshmiMiller-Vedam.jpg\n",
      "100%|██████████| 95.3k/95.3k [00:00<00:00, 3.84MB/s]\n"
     ]
    },
    {
     "name": "stdout",
     "output_type": "stream",
     "text": [
      "LukeKoblan https://drive.google.com/open?id=1IsF8g-d_w7A4XTUmI_2t21q2jGv0EKTf\n"
     ]
    },
    {
     "name": "stderr",
     "output_type": "stream",
     "text": [
      "Downloading...\n",
      "From: https://drive.google.com/uc?id=1IsF8g-d_w7A4XTUmI_2t21q2jGv0EKTf\n",
      "To: /Users/alex/Documents/weissmanlab/assets/img/people/LukeKoblan.jpg\n",
      "100%|██████████| 2.34M/2.34M [00:00<00:00, 15.1MB/s]\n"
     ]
    },
    {
     "name": "stdout",
     "output_type": "stream",
     "text": [
      "ZebulonLevine https://drive.google.com/open?id=12ColnJvOtz18CTVoc9p1HeKm4R3hjHV7\n"
     ]
    },
    {
     "name": "stderr",
     "output_type": "stream",
     "text": [
      "Downloading...\n",
      "From: https://drive.google.com/uc?id=12ColnJvOtz18CTVoc9p1HeKm4R3hjHV7\n",
      "To: /Users/alex/Documents/weissmanlab/assets/img/people/ZebulonLevine.jpg\n",
      "100%|██████████| 11.4k/11.4k [00:00<00:00, 25.4MB/s]\n"
     ]
    },
    {
     "name": "stdout",
     "output_type": "stream",
     "text": [
      "JosephReplogle https://drive.google.com/open?id=1ycj11mfsZUJiOY9RFpyb7svJ9n9vCGSm\n"
     ]
    },
    {
     "name": "stderr",
     "output_type": "stream",
     "text": [
      "Downloading...\n",
      "From: https://drive.google.com/uc?id=1ycj11mfsZUJiOY9RFpyb7svJ9n9vCGSm\n",
      "To: /Users/alex/Documents/weissmanlab/assets/img/people/JosephReplogle.jpg\n",
      "100%|██████████| 968k/968k [00:00<00:00, 7.15MB/s]\n"
     ]
    },
    {
     "name": "stdout",
     "output_type": "stream",
     "text": [
      "XiaojieQiu https://drive.google.com/open?id=14JxH-Gx2PkGrvIdslelK6CgbahXjb7L7\n"
     ]
    },
    {
     "name": "stderr",
     "output_type": "stream",
     "text": [
      "Downloading...\n",
      "From: https://drive.google.com/uc?id=14JxH-Gx2PkGrvIdslelK6CgbahXjb7L7\n",
      "To: /Users/alex/Documents/weissmanlab/assets/img/people/XiaojieQiu.jpg\n",
      "100%|██████████| 16.5k/16.5k [00:00<00:00, 16.5MB/s]\n"
     ]
    },
    {
     "name": "stdout",
     "output_type": "stream",
     "text": [
      "ReubenSaunders https://drive.google.com/open?id=10yqkD80mUAibxDNiJWbtOaT9azrITN72\n"
     ]
    },
    {
     "name": "stderr",
     "output_type": "stream",
     "text": [
      "Downloading...\n",
      "From: https://drive.google.com/uc?id=10yqkD80mUAibxDNiJWbtOaT9azrITN72\n",
      "To: /Users/alex/Documents/weissmanlab/assets/img/people/ReubenSaunders.jpg\n",
      "100%|██████████| 398k/398k [00:00<00:00, 6.58MB/s]\n"
     ]
    },
    {
     "name": "stdout",
     "output_type": "stream",
     "text": [
      "MattJones https://drive.google.com/open?id=1rl68JZd9UYCybIeylNaRMxtVB4ktF3HJ\n"
     ]
    },
    {
     "name": "stderr",
     "output_type": "stream",
     "text": [
      "Downloading...\n",
      "From: https://drive.google.com/uc?id=1rl68JZd9UYCybIeylNaRMxtVB4ktF3HJ\n",
      "To: /Users/alex/Documents/weissmanlab/assets/img/people/MattJones.jpg\n",
      "100%|██████████| 561k/561k [00:00<00:00, 8.76MB/s]\n"
     ]
    },
    {
     "name": "stdout",
     "output_type": "stream",
     "text": [
      "SarahSchumacher https://drive.google.com/open?id=1WJ5Kl7qaNTYB1kAHIrqmdt9fOOtlsKF3\n"
     ]
    },
    {
     "name": "stderr",
     "output_type": "stream",
     "text": [
      "Downloading...\n",
      "From: https://drive.google.com/uc?id=1WJ5Kl7qaNTYB1kAHIrqmdt9fOOtlsKF3\n",
      "To: /Users/alex/Documents/weissmanlab/assets/img/people/SarahSchumacher.jpg\n",
      "100%|██████████| 117k/117k [00:00<00:00, 4.44MB/s]\n"
     ]
    },
    {
     "name": "stdout",
     "output_type": "stream",
     "text": [
      "TessaBertozzi https://drive.google.com/open?id=1TQJiPteaOk8HthDPapEFRKNCALgAHSZS\n"
     ]
    },
    {
     "name": "stderr",
     "output_type": "stream",
     "text": [
      "Downloading...\n",
      "From: https://drive.google.com/uc?id=1TQJiPteaOk8HthDPapEFRKNCALgAHSZS\n",
      "To: /Users/alex/Documents/weissmanlab/assets/img/people/TessaBertozzi.jpg\n",
      "100%|██████████| 2.70M/2.70M [00:00<00:00, 14.7MB/s]\n"
     ]
    },
    {
     "name": "stdout",
     "output_type": "stream",
     "text": [
      "AnneOdera https://drive.google.com/open?id=1BPMTR0JQd6V5aXAZXH9SZZyEUm54-6_d\n"
     ]
    },
    {
     "name": "stderr",
     "output_type": "stream",
     "text": [
      "Downloading...\n",
      "From: https://drive.google.com/uc?id=1BPMTR0JQd6V5aXAZXH9SZZyEUm54-6_d\n",
      "To: /Users/alex/Documents/weissmanlab/assets/img/people/AnneOdera.jpg\n",
      "100%|██████████| 274k/274k [00:00<00:00, 7.57MB/s]\n"
     ]
    },
    {
     "name": "stdout",
     "output_type": "stream",
     "text": [
      "AlexLeNail https://drive.google.com/open?id=1V8zAqzjdeIdUFCUeWB1lfqZI7ZRyx0la\n"
     ]
    },
    {
     "name": "stderr",
     "output_type": "stream",
     "text": [
      "Downloading...\n",
      "From: https://drive.google.com/uc?id=1V8zAqzjdeIdUFCUeWB1lfqZI7ZRyx0la\n",
      "To: /Users/alex/Documents/weissmanlab/assets/img/people/AlexLeNail.jpg\n",
      "100%|██████████| 857k/857k [00:00<00:00, 10.9MB/s]\n"
     ]
    },
    {
     "name": "stdout",
     "output_type": "stream",
     "text": [
      "YiChen nan\n",
      "AtharvOak https://drive.google.com/open?id=1AW-fszVxhPoQbhk56kCzeOxANBBjE7M0\n"
     ]
    },
    {
     "name": "stderr",
     "output_type": "stream",
     "text": [
      "Downloading...\n",
      "From: https://drive.google.com/uc?id=1AW-fszVxhPoQbhk56kCzeOxANBBjE7M0\n",
      "To: /Users/alex/Documents/weissmanlab/assets/img/people/AtharvOak.jpg\n",
      "100%|██████████| 626k/626k [00:00<00:00, 8.41MB/s]\n"
     ]
    },
    {
     "name": "stdout",
     "output_type": "stream",
     "text": [
      "CristenMuresan https://drive.google.com/open?id=14lJw4f2eAHCqmJ3z6O_zqd8CxpfBG9am\n"
     ]
    },
    {
     "name": "stderr",
     "output_type": "stream",
     "text": [
      "Downloading...\n",
      "From: https://drive.google.com/uc?id=14lJw4f2eAHCqmJ3z6O_zqd8CxpfBG9am\n",
      "To: /Users/alex/Documents/weissmanlab/assets/img/people/CristenMuresan.jpg\n",
      "100%|██████████| 1.12M/1.12M [00:00<00:00, 9.71MB/s]\n"
     ]
    },
    {
     "name": "stdout",
     "output_type": "stream",
     "text": [
      "GayathriMuthukumar https://drive.google.com/open?id=1acceshE6cnXyvun9ehg_5EQhADp-gn26\n"
     ]
    },
    {
     "name": "stderr",
     "output_type": "stream",
     "text": [
      "Downloading...\n",
      "From: https://drive.google.com/uc?id=1acceshE6cnXyvun9ehg_5EQhADp-gn26\n",
      "To: /Users/alex/Documents/weissmanlab/assets/img/people/GayathriMuthukumar.jpg\n",
      "100%|██████████| 5.27M/5.27M [00:00<00:00, 17.1MB/s]\n"
     ]
    },
    {
     "name": "stdout",
     "output_type": "stream",
     "text": [
      "KaterinaPopova https://drive.google.com/open?id=1pUpF7EhZn8E7RWAQJMKqZkDf5Z65PT9s\n"
     ]
    },
    {
     "name": "stderr",
     "output_type": "stream",
     "text": [
      "Downloading...\n",
      "From: https://drive.google.com/uc?id=1pUpF7EhZn8E7RWAQJMKqZkDf5Z65PT9s\n",
      "To: /Users/alex/Documents/weissmanlab/assets/img/people/KaterinaPopova.jpg\n",
      "100%|██████████| 120k/120k [00:00<00:00, 4.43MB/s]\n"
     ]
    },
    {
     "name": "stdout",
     "output_type": "stream",
     "text": [
      "YuanchengLu https://drive.google.com/open?id=1uH4d9gunYYbGys_pbbOdjgG-ZFjv8Zyx\n"
     ]
    },
    {
     "name": "stderr",
     "output_type": "stream",
     "text": [
      "Downloading...\n",
      "From: https://drive.google.com/uc?id=1uH4d9gunYYbGys_pbbOdjgG-ZFjv8Zyx\n",
      "To: /Users/alex/Documents/weissmanlab/assets/img/people/YuanchengLu.jpg\n",
      "100%|██████████| 266k/266k [00:00<00:00, 6.95MB/s]\n"
     ]
    },
    {
     "name": "stdout",
     "output_type": "stream",
     "text": [
      "KatieYost https://drive.google.com/open?id=15BWQLjHXdd5f-6h_klvKl87e1t4Kx0gU\n"
     ]
    },
    {
     "name": "stderr",
     "output_type": "stream",
     "text": [
      "Downloading...\n",
      "From: https://drive.google.com/uc?id=15BWQLjHXdd5f-6h_klvKl87e1t4Kx0gU\n",
      "To: /Users/alex/Documents/weissmanlab/assets/img/people/KatieYost.jpg\n",
      "100%|██████████| 742k/742k [00:00<00:00, 10.5MB/s]"
     ]
    },
    {
     "name": "stdout",
     "output_type": "stream",
     "text": [
      "JeffHussmann nan\n"
     ]
    },
    {
     "name": "stderr",
     "output_type": "stream",
     "text": [
      "\n"
     ]
    }
   ],
   "source": [
    "for id, url in survey_responses.set_index('id')['img'].items():\n",
    "    print(id, url)\n",
    "    if type(url) == str:\n",
    "        change_to = 'assets/img/people/'+id+'.jpg'\n",
    "        gdown.download(\"https://drive.google.com/uc?id={}\".format(url.split('id=')[-1]), change_to, quiet=False)"
   ]
  },
  {
   "cell_type": "code",
   "execution_count": 57,
   "id": "74f66f3d-4a49-4d73-991e-e62c9416f419",
   "metadata": {},
   "outputs": [
    {
     "data": {
      "text/plain": [
       "{'JeffHussmann',\n",
       " 'JosephReplogle',\n",
       " 'KaterinaPopova',\n",
       " 'LakshmiMiller-Vedam',\n",
       " 'MattJones',\n",
       " 'ReubenSaunders',\n",
       " 'RichardShe',\n",
       " 'XiaojieQiu'}"
      ]
     },
     "execution_count": 57,
     "metadata": {},
     "output_type": "execute_result"
    }
   ],
   "source": [
    "set(people.id) & set(survey_responses.id)"
   ]
  },
  {
   "cell_type": "code",
   "execution_count": 58,
   "id": "7d2f4403-4974-4908-8d1c-bacb7e100f52",
   "metadata": {},
   "outputs": [],
   "source": [
    "people = pd.concat((survey_responses, people)).drop_duplicates(subset=['id'], keep='first')"
   ]
  },
  {
   "cell_type": "code",
   "execution_count": 61,
   "id": "d84fa7d0-7baa-415a-b106-0757dba17200",
   "metadata": {},
   "outputs": [],
   "source": [
    "people = people.drop('img', axis=1)"
   ]
  },
  {
   "cell_type": "code",
   "execution_count": 63,
   "id": "14da890a-1c09-49d0-9bea-f88a671e4408",
   "metadata": {},
   "outputs": [],
   "source": [
    "people.to_csv('old_site_and_survey_people.csv', index=False)"
   ]
  },
  {
   "cell_type": "code",
   "execution_count": 64,
   "id": "8cd15a5b-b5cd-47ed-b7ec-94b7343114c2",
   "metadata": {},
   "outputs": [],
   "source": [
    "pd.DataFrame(people).to_clipboard()"
   ]
  },
  {
   "cell_type": "markdown",
   "id": "ce98febf-fc16-4529-b8d6-2630646bb4fe",
   "metadata": {
    "tags": []
   },
   "source": [
    "### Trim down lab photos to max size"
   ]
  },
  {
   "cell_type": "code",
   "execution_count": 2,
   "id": "e6707396-53be-4d3c-a270-0077d0dae0d3",
   "metadata": {},
   "outputs": [
    {
     "name": "stdout",
     "output_type": "stream",
     "text": [
      ".DS_Store\n"
     ]
    }
   ],
   "source": [
    "import os\n",
    "for img_path in os.listdir('assets/img/people/'):\n",
    "    try:\n",
    "        image = Image.open('assets/img/people/'+img_path)\n",
    "        image.thumbnail((400, 400))\n",
    "        image.save('assets/img/people/'+img_path)\n",
    "    except:\n",
    "        print(img_path)"
   ]
  },
  {
   "cell_type": "markdown",
   "id": "fac0801c-2cea-488e-94ae-ecda768814bc",
   "metadata": {
    "tags": []
   },
   "source": [
    "### Update People from spreadsheet"
   ]
  },
  {
   "cell_type": "code",
   "execution_count": 1,
   "id": "43333216-0575-46cb-8e4e-5621ed900139",
   "metadata": {},
   "outputs": [],
   "source": [
    "# id must be both the publication first/last, and the name of the image. Name is just the display name."
   ]
  },
  {
   "cell_type": "code",
   "execution_count": 19,
   "id": "006f6993-ac2b-4298-ad0f-ff149387735f",
   "metadata": {},
   "outputs": [],
   "source": [
    "url = 'https://docs.google.com/spreadsheets/d/1-Eju9h1XovEBoBv0DGpxh92GYsZ8bzGkxRdRgUb7hvg'\n",
    "people = pd.read_csv(url+'/export?format=csv')\n",
    "# strip strings\n",
    "df_obj = people.select_dtypes(['object'])\n",
    "people[df_obj.columns] = df_obj.apply(lambda x: x.str.strip())"
   ]
  },
  {
   "cell_type": "code",
   "execution_count": 20,
   "id": "1898b1f0-9b78-48c5-bf38-ac1db5fb4158",
   "metadata": {},
   "outputs": [],
   "source": [
    "with open('_data/people.yml', 'r') as f:\n",
    "    old_people_data = pd.json_normalize(yaml.safe_load(f))"
   ]
  },
  {
   "cell_type": "markdown",
   "id": "4be671d7-6384-4c94-80c9-9840bfd3cfe5",
   "metadata": {},
   "source": [
    "#### New IDs:"
   ]
  },
  {
   "cell_type": "code",
   "execution_count": 22,
   "id": "02ddcce2-a14f-43f0-b507-2d1d86843a18",
   "metadata": {},
   "outputs": [
    {
     "data": {
      "text/html": [
       "<div>\n",
       "<style scoped>\n",
       "    .dataframe tbody tr th:only-of-type {\n",
       "        vertical-align: middle;\n",
       "    }\n",
       "\n",
       "    .dataframe tbody tr th {\n",
       "        vertical-align: top;\n",
       "    }\n",
       "\n",
       "    .dataframe thead th {\n",
       "        text-align: right;\n",
       "    }\n",
       "</style>\n",
       "<table border=\"1\" class=\"dataframe\">\n",
       "  <thead>\n",
       "    <tr style=\"text-align: right;\">\n",
       "      <th></th>\n",
       "      <th>name</th>\n",
       "      <th>pos</th>\n",
       "      <th>email</th>\n",
       "      <th>id</th>\n",
       "      <th>alum</th>\n",
       "      <th>now</th>\n",
       "    </tr>\n",
       "  </thead>\n",
       "  <tbody>\n",
       "    <tr>\n",
       "      <th>24</th>\n",
       "      <td>Joseph Min</td>\n",
       "      <td>Grad student</td>\n",
       "      <td>kmin@wi.mit.edu</td>\n",
       "      <td>JosephMin</td>\n",
       "      <td>False</td>\n",
       "      <td>NaN</td>\n",
       "    </tr>\n",
       "    <tr>\n",
       "      <th>25</th>\n",
       "      <td>Karina Smolyar</td>\n",
       "      <td>Grad student</td>\n",
       "      <td>ksmolyar@wi.mit.edu</td>\n",
       "      <td>KarinaSmolyar</td>\n",
       "      <td>False</td>\n",
       "      <td>NaN</td>\n",
       "    </tr>\n",
       "    <tr>\n",
       "      <th>32</th>\n",
       "      <td>Jeff Quinn</td>\n",
       "      <td>Post-doc</td>\n",
       "      <td>NaN</td>\n",
       "      <td>JeffreyQuinn</td>\n",
       "      <td>True</td>\n",
       "      <td>NaN</td>\n",
       "    </tr>\n",
       "  </tbody>\n",
       "</table>\n",
       "</div>"
      ],
      "text/plain": [
       "              name           pos                email             id   alum  \\\n",
       "24      Joseph Min  Grad student      kmin@wi.mit.edu      JosephMin  False   \n",
       "25  Karina Smolyar  Grad student  ksmolyar@wi.mit.edu  KarinaSmolyar  False   \n",
       "32      Jeff Quinn      Post-doc                  NaN   JeffreyQuinn   True   \n",
       "\n",
       "    now  \n",
       "24  NaN  \n",
       "25  NaN  \n",
       "32  NaN  "
      ]
     },
     "execution_count": 22,
     "metadata": {},
     "output_type": "execute_result"
    }
   ],
   "source": [
    "people[ ~people.id.isin(old_people_data.id)]\n"
   ]
  },
  {
   "cell_type": "markdown",
   "id": "d71717f6-ab76-408f-baad-2e248907784e",
   "metadata": {},
   "source": [
    "#### Updates to existing IDs:"
   ]
  },
  {
   "cell_type": "code",
   "execution_count": 33,
   "id": "368d3214-2842-403f-adfb-521f50a19f7c",
   "metadata": {},
   "outputs": [
    {
     "data": {
      "text/html": [
       "<div>\n",
       "<style scoped>\n",
       "    .dataframe tbody tr th:only-of-type {\n",
       "        vertical-align: middle;\n",
       "    }\n",
       "\n",
       "    .dataframe tbody tr th {\n",
       "        vertical-align: top;\n",
       "    }\n",
       "\n",
       "    .dataframe thead th {\n",
       "        text-align: right;\n",
       "    }\n",
       "</style>\n",
       "<table border=\"1\" class=\"dataframe\">\n",
       "  <thead>\n",
       "    <tr style=\"text-align: right;\">\n",
       "      <th></th>\n",
       "      <th>name</th>\n",
       "      <th>pos</th>\n",
       "      <th>email</th>\n",
       "      <th>id</th>\n",
       "      <th>alum</th>\n",
       "      <th>now</th>\n",
       "      <th>update</th>\n",
       "    </tr>\n",
       "  </thead>\n",
       "  <tbody>\n",
       "    <tr>\n",
       "      <th>10</th>\n",
       "      <td>Jeff Hussmann</td>\n",
       "      <td>Post-doc</td>\n",
       "      <td>jah@wi.mit.edu</td>\n",
       "      <td>JeffreyHussmann</td>\n",
       "      <td>False</td>\n",
       "      <td>NaN</td>\n",
       "      <td>current</td>\n",
       "    </tr>\n",
       "    <tr>\n",
       "      <th>10</th>\n",
       "      <td>Jeffrey Hussmann</td>\n",
       "      <td>Post-doc</td>\n",
       "      <td>jah@wi.mit.edu</td>\n",
       "      <td>JeffreyHussmann</td>\n",
       "      <td>False</td>\n",
       "      <td>NaN</td>\n",
       "      <td>previous</td>\n",
       "    </tr>\n",
       "    <tr>\n",
       "      <th>81</th>\n",
       "      <td>Matthew  Larson</td>\n",
       "      <td>Post-doc</td>\n",
       "      <td>NaN</td>\n",
       "      <td>MatthewLarson</td>\n",
       "      <td>True</td>\n",
       "      <td>Scientist |Illumina Medical Laboratory</td>\n",
       "      <td>current</td>\n",
       "    </tr>\n",
       "    <tr>\n",
       "      <th>79</th>\n",
       "      <td>Matthew Larson</td>\n",
       "      <td>Post-doc</td>\n",
       "      <td>NaN</td>\n",
       "      <td>MatthewLarson</td>\n",
       "      <td>True</td>\n",
       "      <td>Scientist |Illumina Medical Laboratory</td>\n",
       "      <td>previous</td>\n",
       "    </tr>\n",
       "    <tr>\n",
       "      <th>6</th>\n",
       "      <td>Zeb Levine</td>\n",
       "      <td>Post-doc</td>\n",
       "      <td>levinez@wi.mit.edu</td>\n",
       "      <td>ZebulonLevine</td>\n",
       "      <td>False</td>\n",
       "      <td>NaN</td>\n",
       "      <td>current</td>\n",
       "    </tr>\n",
       "    <tr>\n",
       "      <th>6</th>\n",
       "      <td>Zebulon Levine</td>\n",
       "      <td>Post-doc</td>\n",
       "      <td>levinez@wi.mit.edu</td>\n",
       "      <td>ZebulonLevine</td>\n",
       "      <td>False</td>\n",
       "      <td>NaN</td>\n",
       "      <td>previous</td>\n",
       "    </tr>\n",
       "  </tbody>\n",
       "</table>\n",
       "</div>"
      ],
      "text/plain": [
       "                name       pos               email               id   alum  \\\n",
       "10     Jeff Hussmann  Post-doc      jah@wi.mit.edu  JeffreyHussmann  False   \n",
       "10  Jeffrey Hussmann  Post-doc      jah@wi.mit.edu  JeffreyHussmann  False   \n",
       "81   Matthew  Larson  Post-doc                 NaN    MatthewLarson   True   \n",
       "79    Matthew Larson  Post-doc                 NaN    MatthewLarson   True   \n",
       "6         Zeb Levine  Post-doc  levinez@wi.mit.edu    ZebulonLevine  False   \n",
       "6     Zebulon Levine  Post-doc  levinez@wi.mit.edu    ZebulonLevine  False   \n",
       "\n",
       "                                       now    update  \n",
       "10                                     NaN   current  \n",
       "10                                     NaN  previous  \n",
       "81  Scientist |Illumina Medical Laboratory   current  \n",
       "79  Scientist |Illumina Medical Laboratory  previous  \n",
       "6                                      NaN   current  \n",
       "6                                      NaN  previous  "
      ]
     },
     "execution_count": 33,
     "metadata": {},
     "output_type": "execute_result"
    }
   ],
   "source": [
    "people['update'] = 'current'\n",
    "old_people_data['update'] = 'previous'\n",
    "\n",
    "pd.concat([people[people.id.isin(old_people_data.id)],old_people_data[old_people_data.id.isin(people.id)]]).drop_duplicates(subset=['name'], keep=False).sort_values(by='id')\n"
   ]
  },
  {
   "cell_type": "markdown",
   "id": "d8591ba1-b21f-43ac-95d2-bfc585fccfef",
   "metadata": {},
   "source": [
    "#### Removal of IDs:"
   ]
  },
  {
   "cell_type": "code",
   "execution_count": 23,
   "id": "f1233203-5d3a-455d-8ced-5faa1da00d73",
   "metadata": {},
   "outputs": [
    {
     "data": {
      "text/html": [
       "<div>\n",
       "<style scoped>\n",
       "    .dataframe tbody tr th:only-of-type {\n",
       "        vertical-align: middle;\n",
       "    }\n",
       "\n",
       "    .dataframe tbody tr th {\n",
       "        vertical-align: top;\n",
       "    }\n",
       "\n",
       "    .dataframe thead th {\n",
       "        text-align: right;\n",
       "    }\n",
       "</style>\n",
       "<table border=\"1\" class=\"dataframe\">\n",
       "  <thead>\n",
       "    <tr style=\"text-align: right;\">\n",
       "      <th></th>\n",
       "      <th>name</th>\n",
       "      <th>pos</th>\n",
       "      <th>email</th>\n",
       "      <th>id</th>\n",
       "      <th>alum</th>\n",
       "      <th>now</th>\n",
       "    </tr>\n",
       "  </thead>\n",
       "  <tbody>\n",
       "    <tr>\n",
       "      <th>30</th>\n",
       "      <td>Jeff Quinn</td>\n",
       "      <td>Post-doc</td>\n",
       "      <td>NaN</td>\n",
       "      <td>JeffQuinn</td>\n",
       "      <td>True</td>\n",
       "      <td>NaN</td>\n",
       "    </tr>\n",
       "    <tr>\n",
       "      <th>109</th>\n",
       "      <td>Kimberly Tipton</td>\n",
       "      <td>Grad student</td>\n",
       "      <td>NaN</td>\n",
       "      <td>KimberlyTipton</td>\n",
       "      <td>True</td>\n",
       "      <td>Scientist |CytomX Therapeutics</td>\n",
       "    </tr>\n",
       "  </tbody>\n",
       "</table>\n",
       "</div>"
      ],
      "text/plain": [
       "                name           pos email              id  alum  \\\n",
       "30        Jeff Quinn      Post-doc   NaN       JeffQuinn  True   \n",
       "109  Kimberly Tipton  Grad student   NaN  KimberlyTipton  True   \n",
       "\n",
       "                                now  \n",
       "30                              NaN  \n",
       "109  Scientist |CytomX Therapeutics  "
      ]
     },
     "execution_count": 23,
     "metadata": {},
     "output_type": "execute_result"
    }
   ],
   "source": [
    "old_people_data[ ~old_people_data.id.isin(people.id)]"
   ]
  },
  {
   "cell_type": "markdown",
   "id": "6cddae88-f41d-453c-a0ac-d4c5a6456f65",
   "metadata": {
    "tags": []
   },
   "source": [
    "#### Write updated sheet to yaml"
   ]
  },
  {
   "cell_type": "code",
   "execution_count": 35,
   "id": "922ec1a1-b130-4595-a994-0ae9fe3d4f64",
   "metadata": {},
   "outputs": [],
   "source": [
    "people = people.drop('update', axis=1)\n",
    "people_records = [{k:v for k,v in m.items() if pd.notnull(v)} for m in people.to_dict(orient='records')]\n"
   ]
  },
  {
   "cell_type": "code",
   "execution_count": 41,
   "id": "e43cf38b-3bf5-489e-912b-c081151b2fb9",
   "metadata": {},
   "outputs": [],
   "source": [
    "class MyDumper(yaml.SafeDumper):\n",
    "    # HACK: insert blank lines between top-level objects\n",
    "    # inspired by https://stackoverflow.com/a/44284819/3786245\n",
    "    def write_line_break(self, data=None):\n",
    "        super().write_line_break(data)\n",
    "\n",
    "        if len(self.indents) == 1:\n",
    "            super().write_line_break()"
   ]
  },
  {
   "cell_type": "code",
   "execution_count": null,
   "id": "b72f7d29-d480-4646-8afb-f7bb3f49a9aa",
   "metadata": {},
   "outputs": [],
   "source": [
    "open('_data/people.yml', 'w').write(yaml.dump(people_records, Dumper=MyDumper, default_flow_style=False, sort_keys=False))\n"
   ]
  }
 ],
 "metadata": {
  "kernelspec": {
   "display_name": "Python 3",
   "language": "python",
   "name": "python3"
  },
  "language_info": {
   "codemirror_mode": {
    "name": "ipython",
    "version": 3
   },
   "file_extension": ".py",
   "mimetype": "text/x-python",
   "name": "python",
   "nbconvert_exporter": "python",
   "pygments_lexer": "ipython3",
   "version": "3.7.10"
  }
 },
 "nbformat": 4,
 "nbformat_minor": 5
}
